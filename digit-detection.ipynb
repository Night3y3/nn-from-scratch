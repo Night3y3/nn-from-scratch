{
 "cells": [
  {
   "cell_type": "code",
   "execution_count": 1,
   "id": "d822f800",
   "metadata": {
    "_cell_guid": "6c388860-d4fe-45d4-ae05-f34f9549b77f",
    "_uuid": "287e3983-eff1-483c-a478-d81979d1d9f7",
    "collapsed": false,
    "execution": {
     "iopub.execute_input": "2024-04-28T09:49:54.604185Z",
     "iopub.status.busy": "2024-04-28T09:49:54.603460Z",
     "iopub.status.idle": "2024-04-28T09:49:55.404536Z",
     "shell.execute_reply": "2024-04-28T09:49:55.403452Z"
    },
    "jupyter": {
     "outputs_hidden": false
    },
    "papermill": {
     "duration": 0.810257,
     "end_time": "2024-04-28T09:49:55.407100",
     "exception": false,
     "start_time": "2024-04-28T09:49:54.596843",
     "status": "completed"
    },
    "scrolled": true,
    "tags": []
   },
   "outputs": [],
   "source": [
    "import numpy as np\n",
    "import pandas as pd\n",
    "from matplotlib import pyplot as plt"
   ]
  },
  {
   "cell_type": "code",
   "execution_count": 2,
   "id": "87104153",
   "metadata": {
    "_cell_guid": "228545be-c889-4ea9-95f1-6dfddcdaa45c",
    "_uuid": "122585d0-88a4-4854-be8f-c74d862441d7",
    "collapsed": false,
    "execution": {
     "iopub.execute_input": "2024-04-28T09:49:55.419756Z",
     "iopub.status.busy": "2024-04-28T09:49:55.418456Z",
     "iopub.status.idle": "2024-04-28T09:49:58.749027Z",
     "shell.execute_reply": "2024-04-28T09:49:58.748083Z"
    },
    "jupyter": {
     "outputs_hidden": false
    },
    "papermill": {
     "duration": 3.339171,
     "end_time": "2024-04-28T09:49:58.751516",
     "exception": false,
     "start_time": "2024-04-28T09:49:55.412345",
     "status": "completed"
    },
    "tags": []
   },
   "outputs": [],
   "source": [
    "data = pd.read_csv('/kaggle/input/digit-recognizer/train.csv')"
   ]
  },
  {
   "cell_type": "code",
   "execution_count": 3,
   "id": "72b434cc",
   "metadata": {
    "execution": {
     "iopub.execute_input": "2024-04-28T09:49:58.761402Z",
     "iopub.status.busy": "2024-04-28T09:49:58.761056Z",
     "iopub.status.idle": "2024-04-28T09:49:58.788003Z",
     "shell.execute_reply": "2024-04-28T09:49:58.786964Z"
    },
    "papermill": {
     "duration": 0.034384,
     "end_time": "2024-04-28T09:49:58.790225",
     "exception": false,
     "start_time": "2024-04-28T09:49:58.755841",
     "status": "completed"
    },
    "tags": []
   },
   "outputs": [
    {
     "data": {
      "text/html": [
       "<div>\n",
       "<style scoped>\n",
       "    .dataframe tbody tr th:only-of-type {\n",
       "        vertical-align: middle;\n",
       "    }\n",
       "\n",
       "    .dataframe tbody tr th {\n",
       "        vertical-align: top;\n",
       "    }\n",
       "\n",
       "    .dataframe thead th {\n",
       "        text-align: right;\n",
       "    }\n",
       "</style>\n",
       "<table border=\"1\" class=\"dataframe\">\n",
       "  <thead>\n",
       "    <tr style=\"text-align: right;\">\n",
       "      <th></th>\n",
       "      <th>label</th>\n",
       "      <th>pixel0</th>\n",
       "      <th>pixel1</th>\n",
       "      <th>pixel2</th>\n",
       "      <th>pixel3</th>\n",
       "      <th>pixel4</th>\n",
       "      <th>pixel5</th>\n",
       "      <th>pixel6</th>\n",
       "      <th>pixel7</th>\n",
       "      <th>pixel8</th>\n",
       "      <th>...</th>\n",
       "      <th>pixel774</th>\n",
       "      <th>pixel775</th>\n",
       "      <th>pixel776</th>\n",
       "      <th>pixel777</th>\n",
       "      <th>pixel778</th>\n",
       "      <th>pixel779</th>\n",
       "      <th>pixel780</th>\n",
       "      <th>pixel781</th>\n",
       "      <th>pixel782</th>\n",
       "      <th>pixel783</th>\n",
       "    </tr>\n",
       "  </thead>\n",
       "  <tbody>\n",
       "    <tr>\n",
       "      <th>0</th>\n",
       "      <td>1</td>\n",
       "      <td>0</td>\n",
       "      <td>0</td>\n",
       "      <td>0</td>\n",
       "      <td>0</td>\n",
       "      <td>0</td>\n",
       "      <td>0</td>\n",
       "      <td>0</td>\n",
       "      <td>0</td>\n",
       "      <td>0</td>\n",
       "      <td>...</td>\n",
       "      <td>0</td>\n",
       "      <td>0</td>\n",
       "      <td>0</td>\n",
       "      <td>0</td>\n",
       "      <td>0</td>\n",
       "      <td>0</td>\n",
       "      <td>0</td>\n",
       "      <td>0</td>\n",
       "      <td>0</td>\n",
       "      <td>0</td>\n",
       "    </tr>\n",
       "    <tr>\n",
       "      <th>1</th>\n",
       "      <td>0</td>\n",
       "      <td>0</td>\n",
       "      <td>0</td>\n",
       "      <td>0</td>\n",
       "      <td>0</td>\n",
       "      <td>0</td>\n",
       "      <td>0</td>\n",
       "      <td>0</td>\n",
       "      <td>0</td>\n",
       "      <td>0</td>\n",
       "      <td>...</td>\n",
       "      <td>0</td>\n",
       "      <td>0</td>\n",
       "      <td>0</td>\n",
       "      <td>0</td>\n",
       "      <td>0</td>\n",
       "      <td>0</td>\n",
       "      <td>0</td>\n",
       "      <td>0</td>\n",
       "      <td>0</td>\n",
       "      <td>0</td>\n",
       "    </tr>\n",
       "    <tr>\n",
       "      <th>2</th>\n",
       "      <td>1</td>\n",
       "      <td>0</td>\n",
       "      <td>0</td>\n",
       "      <td>0</td>\n",
       "      <td>0</td>\n",
       "      <td>0</td>\n",
       "      <td>0</td>\n",
       "      <td>0</td>\n",
       "      <td>0</td>\n",
       "      <td>0</td>\n",
       "      <td>...</td>\n",
       "      <td>0</td>\n",
       "      <td>0</td>\n",
       "      <td>0</td>\n",
       "      <td>0</td>\n",
       "      <td>0</td>\n",
       "      <td>0</td>\n",
       "      <td>0</td>\n",
       "      <td>0</td>\n",
       "      <td>0</td>\n",
       "      <td>0</td>\n",
       "    </tr>\n",
       "    <tr>\n",
       "      <th>3</th>\n",
       "      <td>4</td>\n",
       "      <td>0</td>\n",
       "      <td>0</td>\n",
       "      <td>0</td>\n",
       "      <td>0</td>\n",
       "      <td>0</td>\n",
       "      <td>0</td>\n",
       "      <td>0</td>\n",
       "      <td>0</td>\n",
       "      <td>0</td>\n",
       "      <td>...</td>\n",
       "      <td>0</td>\n",
       "      <td>0</td>\n",
       "      <td>0</td>\n",
       "      <td>0</td>\n",
       "      <td>0</td>\n",
       "      <td>0</td>\n",
       "      <td>0</td>\n",
       "      <td>0</td>\n",
       "      <td>0</td>\n",
       "      <td>0</td>\n",
       "    </tr>\n",
       "    <tr>\n",
       "      <th>4</th>\n",
       "      <td>0</td>\n",
       "      <td>0</td>\n",
       "      <td>0</td>\n",
       "      <td>0</td>\n",
       "      <td>0</td>\n",
       "      <td>0</td>\n",
       "      <td>0</td>\n",
       "      <td>0</td>\n",
       "      <td>0</td>\n",
       "      <td>0</td>\n",
       "      <td>...</td>\n",
       "      <td>0</td>\n",
       "      <td>0</td>\n",
       "      <td>0</td>\n",
       "      <td>0</td>\n",
       "      <td>0</td>\n",
       "      <td>0</td>\n",
       "      <td>0</td>\n",
       "      <td>0</td>\n",
       "      <td>0</td>\n",
       "      <td>0</td>\n",
       "    </tr>\n",
       "  </tbody>\n",
       "</table>\n",
       "<p>5 rows × 785 columns</p>\n",
       "</div>"
      ],
      "text/plain": [
       "   label  pixel0  pixel1  pixel2  pixel3  pixel4  pixel5  pixel6  pixel7  \\\n",
       "0      1       0       0       0       0       0       0       0       0   \n",
       "1      0       0       0       0       0       0       0       0       0   \n",
       "2      1       0       0       0       0       0       0       0       0   \n",
       "3      4       0       0       0       0       0       0       0       0   \n",
       "4      0       0       0       0       0       0       0       0       0   \n",
       "\n",
       "   pixel8  ...  pixel774  pixel775  pixel776  pixel777  pixel778  pixel779  \\\n",
       "0       0  ...         0         0         0         0         0         0   \n",
       "1       0  ...         0         0         0         0         0         0   \n",
       "2       0  ...         0         0         0         0         0         0   \n",
       "3       0  ...         0         0         0         0         0         0   \n",
       "4       0  ...         0         0         0         0         0         0   \n",
       "\n",
       "   pixel780  pixel781  pixel782  pixel783  \n",
       "0         0         0         0         0  \n",
       "1         0         0         0         0  \n",
       "2         0         0         0         0  \n",
       "3         0         0         0         0  \n",
       "4         0         0         0         0  \n",
       "\n",
       "[5 rows x 785 columns]"
      ]
     },
     "execution_count": 3,
     "metadata": {},
     "output_type": "execute_result"
    }
   ],
   "source": [
    "data.head()"
   ]
  },
  {
   "cell_type": "code",
   "execution_count": 4,
   "id": "61279628",
   "metadata": {
    "execution": {
     "iopub.execute_input": "2024-04-28T09:49:58.801498Z",
     "iopub.status.busy": "2024-04-28T09:49:58.800566Z",
     "iopub.status.idle": "2024-04-28T09:49:59.602045Z",
     "shell.execute_reply": "2024-04-28T09:49:59.600711Z"
    },
    "papermill": {
     "duration": 0.809898,
     "end_time": "2024-04-28T09:49:59.604775",
     "exception": false,
     "start_time": "2024-04-28T09:49:58.794877",
     "status": "completed"
    },
    "tags": []
   },
   "outputs": [],
   "source": [
    "data = np.array(data)\n",
    "m, n = data.shape\n",
    "np.random.shuffle(data) # shuffle before splitting into dev and training sets\n",
    "\n",
    "data_dev = data[0:1000].T\n",
    "Y_dev = data_dev[0]\n",
    "X_dev = data_dev[1:n]\n",
    "X_dev = X_dev / 255.\n",
    "\n",
    "data_train = data[1000:m].T\n",
    "Y_train = data_train[0]\n",
    "X_train = data_train[1:n]\n",
    "X_train = X_train / 255.\n",
    "_,m_train = X_train.shape"
   ]
  },
  {
   "cell_type": "code",
   "execution_count": 5,
   "id": "f5b9c742",
   "metadata": {
    "execution": {
     "iopub.execute_input": "2024-04-28T09:49:59.615755Z",
     "iopub.status.busy": "2024-04-28T09:49:59.614922Z",
     "iopub.status.idle": "2024-04-28T09:49:59.622074Z",
     "shell.execute_reply": "2024-04-28T09:49:59.621159Z"
    },
    "papermill": {
     "duration": 0.01488,
     "end_time": "2024-04-28T09:49:59.624186",
     "exception": false,
     "start_time": "2024-04-28T09:49:59.609306",
     "status": "completed"
    },
    "tags": []
   },
   "outputs": [
    {
     "data": {
      "text/plain": [
       "array([9, 7, 7, ..., 3, 6, 2])"
      ]
     },
     "execution_count": 5,
     "metadata": {},
     "output_type": "execute_result"
    }
   ],
   "source": [
    "Y_train"
   ]
  },
  {
   "cell_type": "code",
   "execution_count": 6,
   "id": "307ae234",
   "metadata": {
    "execution": {
     "iopub.execute_input": "2024-04-28T09:49:59.634625Z",
     "iopub.status.busy": "2024-04-28T09:49:59.634279Z",
     "iopub.status.idle": "2024-04-28T09:49:59.641353Z",
     "shell.execute_reply": "2024-04-28T09:49:59.640391Z"
    },
    "papermill": {
     "duration": 0.014695,
     "end_time": "2024-04-28T09:49:59.643524",
     "exception": false,
     "start_time": "2024-04-28T09:49:59.628829",
     "status": "completed"
    },
    "tags": []
   },
   "outputs": [
    {
     "data": {
      "text/plain": [
       "array([[0., 0., 0., ..., 0., 0., 0.],\n",
       "       [0., 0., 0., ..., 0., 0., 0.],\n",
       "       [0., 0., 0., ..., 0., 0., 0.],\n",
       "       ...,\n",
       "       [0., 0., 0., ..., 0., 0., 0.],\n",
       "       [0., 0., 0., ..., 0., 0., 0.],\n",
       "       [0., 0., 0., ..., 0., 0., 0.]])"
      ]
     },
     "execution_count": 6,
     "metadata": {},
     "output_type": "execute_result"
    }
   ],
   "source": [
    "X_train"
   ]
  },
  {
   "cell_type": "code",
   "execution_count": 7,
   "id": "95b67e26",
   "metadata": {
    "execution": {
     "iopub.execute_input": "2024-04-28T09:49:59.655097Z",
     "iopub.status.busy": "2024-04-28T09:49:59.654166Z",
     "iopub.status.idle": "2024-04-28T09:49:59.660701Z",
     "shell.execute_reply": "2024-04-28T09:49:59.659813Z"
    },
    "papermill": {
     "duration": 0.015258,
     "end_time": "2024-04-28T09:49:59.663567",
     "exception": false,
     "start_time": "2024-04-28T09:49:59.648309",
     "status": "completed"
    },
    "tags": []
   },
   "outputs": [
    {
     "data": {
      "text/plain": [
       "(41000,)"
      ]
     },
     "execution_count": 7,
     "metadata": {},
     "output_type": "execute_result"
    }
   ],
   "source": [
    "X_train[0].shape"
   ]
  },
  {
   "cell_type": "code",
   "execution_count": 8,
   "id": "d43dc3f4",
   "metadata": {
    "execution": {
     "iopub.execute_input": "2024-04-28T09:49:59.675294Z",
     "iopub.status.busy": "2024-04-28T09:49:59.674939Z",
     "iopub.status.idle": "2024-04-28T09:49:59.681009Z",
     "shell.execute_reply": "2024-04-28T09:49:59.680063Z"
    },
    "papermill": {
     "duration": 0.013883,
     "end_time": "2024-04-28T09:49:59.683029",
     "exception": false,
     "start_time": "2024-04-28T09:49:59.669146",
     "status": "completed"
    },
    "tags": []
   },
   "outputs": [
    {
     "data": {
      "text/plain": [
       "(784,)"
      ]
     },
     "execution_count": 8,
     "metadata": {},
     "output_type": "execute_result"
    }
   ],
   "source": [
    "X_train[:,0].shape"
   ]
  },
  {
   "cell_type": "code",
   "execution_count": 9,
   "id": "73186fbf",
   "metadata": {
    "execution": {
     "iopub.execute_input": "2024-04-28T09:49:59.695365Z",
     "iopub.status.busy": "2024-04-28T09:49:59.694531Z",
     "iopub.status.idle": "2024-04-28T09:49:59.705860Z",
     "shell.execute_reply": "2024-04-28T09:49:59.704721Z"
    },
    "papermill": {
     "duration": 0.019343,
     "end_time": "2024-04-28T09:49:59.707939",
     "exception": false,
     "start_time": "2024-04-28T09:49:59.688596",
     "status": "completed"
    },
    "tags": []
   },
   "outputs": [],
   "source": [
    "def init_params():\n",
    "    W1 = np.random.rand(10, 784) - 0.5\n",
    "    b1 = np.random.rand(10, 1) - 0.5\n",
    "    W2 = np.random.rand(10, 10) - 0.5\n",
    "    b2 = np.random.rand(10, 1) - 0.5\n",
    "    return W1, b1, W2, b2\n",
    "\n",
    "def ReLU(Z):\n",
    "    return np.maximum(Z, 0)\n",
    "\n",
    "def softmax(Z):\n",
    "    A = np.exp(Z) / sum(np.exp(Z))\n",
    "    return A\n",
    "    \n",
    "def forward_prop(W1, b1, W2, b2, X):\n",
    "    Z1 = W1.dot(X) + b1\n",
    "    A1 = ReLU(Z1)\n",
    "    Z2 = W2.dot(A1) + b2\n",
    "    A2 = softmax(Z2)\n",
    "    return Z1, A1, Z2, A2\n",
    "\n",
    "def ReLU_deriv(Z):\n",
    "    return Z > 0\n",
    "\n",
    "def one_hot(Y):\n",
    "    one_hot_Y = np.zeros((Y.size, Y.max() + 1))\n",
    "    one_hot_Y[np.arange(Y.size), Y] = 1\n",
    "    one_hot_Y = one_hot_Y.T\n",
    "    return one_hot_Y\n",
    "    \n",
    "def backward_prop(Z1, A1, Z2, A2, W1, W2, X, Y):\n",
    "    one_hot_Y = one_hot(Y)\n",
    "    dZ2 = A2 - one_hot_Y\n",
    "    dW2 = 1 / m * dZ2.dot(A1.T)\n",
    "    db2 = 1 / m * np.sum(dZ2)\n",
    "    dZ1 = W2.T.dot(dZ2) * ReLU_deriv(Z1)\n",
    "    dW1 = 1 / m * dZ1.dot(X.T)\n",
    "    db1 = 1 / m * np.sum(dZ1)\n",
    "    return dW1, db1, dW2, db2\n",
    "\n",
    "def update_params(W1, b1, W2, b2, dW1, db1, dW2, db2, alpha):\n",
    "    W1 = W1 - alpha * dW1\n",
    "    b1 = b1 - alpha * db1    \n",
    "    W2 = W2 - alpha * dW2  \n",
    "    b2 = b2 - alpha * db2    \n",
    "    return W1, b1, W2, b2"
   ]
  },
  {
   "cell_type": "code",
   "execution_count": 10,
   "id": "10998708",
   "metadata": {
    "execution": {
     "iopub.execute_input": "2024-04-28T09:49:59.719770Z",
     "iopub.status.busy": "2024-04-28T09:49:59.719161Z",
     "iopub.status.idle": "2024-04-28T09:49:59.726658Z",
     "shell.execute_reply": "2024-04-28T09:49:59.725711Z"
    },
    "papermill": {
     "duration": 0.015818,
     "end_time": "2024-04-28T09:49:59.728841",
     "exception": false,
     "start_time": "2024-04-28T09:49:59.713023",
     "status": "completed"
    },
    "tags": []
   },
   "outputs": [],
   "source": [
    "def get_predictions(A2):\n",
    "    return np.argmax(A2, 0)\n",
    "\n",
    "def get_accuracy(predictions, Y):\n",
    "    print(predictions, Y)\n",
    "    return np.sum(predictions == Y) / Y.size\n",
    "\n",
    "def gradient_descent(X, Y, alpha, iterations):\n",
    "    W1, b1, W2, b2 = init_params()\n",
    "    for i in range(iterations):\n",
    "        Z1, A1, Z2, A2 = forward_prop(W1, b1, W2, b2, X)\n",
    "        dW1, db1, dW2, db2 = backward_prop(Z1, A1, Z2, A2, W1, W2, X, Y)\n",
    "        W1, b1, W2, b2 = update_params(W1, b1, W2, b2, dW1, db1, dW2, db2, alpha)\n",
    "        if i % 10 == 0:\n",
    "            print(\"Iteration: \", i)\n",
    "            predictions = get_predictions(A2)\n",
    "            print(get_accuracy(predictions, Y))\n",
    "    return W1, b1, W2, b2"
   ]
  },
  {
   "cell_type": "code",
   "execution_count": 11,
   "id": "97a3e01c",
   "metadata": {
    "execution": {
     "iopub.execute_input": "2024-04-28T09:49:59.740251Z",
     "iopub.status.busy": "2024-04-28T09:49:59.739698Z",
     "iopub.status.idle": "2024-04-28T09:50:54.471215Z",
     "shell.execute_reply": "2024-04-28T09:50:54.469956Z"
    },
    "papermill": {
     "duration": 54.741381,
     "end_time": "2024-04-28T09:50:54.475187",
     "exception": false,
     "start_time": "2024-04-28T09:49:59.733806",
     "status": "completed"
    },
    "tags": []
   },
   "outputs": [
    {
     "name": "stdout",
     "output_type": "stream",
     "text": [
      "Iteration:  0\n",
      "[6 3 1 ... 1 1 0] [9 7 7 ... 3 6 2]\n",
      "0.06760975609756098\n",
      "Iteration:  10\n",
      "[8 9 1 ... 8 8 0] [9 7 7 ... 3 6 2]\n",
      "0.16590243902439025\n",
      "Iteration:  20\n",
      "[8 9 1 ... 8 8 0] [9 7 7 ... 3 6 2]\n",
      "0.2475609756097561\n",
      "Iteration:  30\n",
      "[8 5 1 ... 8 8 0] [9 7 7 ... 3 6 2]\n",
      "0.342219512195122\n",
      "Iteration:  40\n",
      "[9 5 1 ... 8 8 2] [9 7 7 ... 3 6 2]\n",
      "0.41821951219512193\n",
      "Iteration:  50\n",
      "[9 5 1 ... 8 8 2] [9 7 7 ... 3 6 2]\n",
      "0.47168292682926827\n",
      "Iteration:  60\n",
      "[9 5 1 ... 8 8 2] [9 7 7 ... 3 6 2]\n",
      "0.5134390243902439\n",
      "Iteration:  70\n",
      "[9 5 1 ... 8 8 2] [9 7 7 ... 3 6 2]\n",
      "0.5479024390243903\n",
      "Iteration:  80\n",
      "[9 5 1 ... 8 6 2] [9 7 7 ... 3 6 2]\n",
      "0.5773170731707317\n",
      "Iteration:  90\n",
      "[9 5 1 ... 8 6 2] [9 7 7 ... 3 6 2]\n",
      "0.6050975609756097\n",
      "Iteration:  100\n",
      "[9 7 7 ... 8 6 2] [9 7 7 ... 3 6 2]\n",
      "0.6311463414634146\n",
      "Iteration:  110\n",
      "[9 7 7 ... 8 6 2] [9 7 7 ... 3 6 2]\n",
      "0.655219512195122\n",
      "Iteration:  120\n",
      "[9 7 7 ... 8 6 2] [9 7 7 ... 3 6 2]\n",
      "0.6777073170731708\n",
      "Iteration:  130\n",
      "[9 7 7 ... 8 6 2] [9 7 7 ... 3 6 2]\n",
      "0.6950487804878048\n",
      "Iteration:  140\n",
      "[9 7 7 ... 8 6 2] [9 7 7 ... 3 6 2]\n",
      "0.7105853658536585\n",
      "Iteration:  150\n",
      "[9 7 7 ... 8 6 2] [9 7 7 ... 3 6 2]\n",
      "0.7236585365853658\n",
      "Iteration:  160\n",
      "[9 7 7 ... 8 6 2] [9 7 7 ... 3 6 2]\n",
      "0.734609756097561\n",
      "Iteration:  170\n",
      "[9 7 7 ... 8 6 2] [9 7 7 ... 3 6 2]\n",
      "0.745219512195122\n",
      "Iteration:  180\n",
      "[9 7 7 ... 8 6 2] [9 7 7 ... 3 6 2]\n",
      "0.7541219512195122\n",
      "Iteration:  190\n",
      "[9 7 7 ... 8 6 2] [9 7 7 ... 3 6 2]\n",
      "0.7628048780487805\n",
      "Iteration:  200\n",
      "[9 7 7 ... 8 6 2] [9 7 7 ... 3 6 2]\n",
      "0.7695121951219512\n",
      "Iteration:  210\n",
      "[9 7 7 ... 8 6 2] [9 7 7 ... 3 6 2]\n",
      "0.776609756097561\n",
      "Iteration:  220\n",
      "[9 7 7 ... 8 6 2] [9 7 7 ... 3 6 2]\n",
      "0.7830975609756098\n",
      "Iteration:  230\n",
      "[9 7 7 ... 8 6 2] [9 7 7 ... 3 6 2]\n",
      "0.7882682926829269\n",
      "Iteration:  240\n",
      "[9 7 7 ... 8 6 2] [9 7 7 ... 3 6 2]\n",
      "0.7930731707317074\n",
      "Iteration:  250\n",
      "[9 7 7 ... 8 6 2] [9 7 7 ... 3 6 2]\n",
      "0.798439024390244\n",
      "Iteration:  260\n",
      "[9 7 7 ... 8 6 2] [9 7 7 ... 3 6 2]\n",
      "0.8025121951219513\n",
      "Iteration:  270\n",
      "[9 7 7 ... 8 6 2] [9 7 7 ... 3 6 2]\n",
      "0.8062439024390244\n",
      "Iteration:  280\n",
      "[9 7 7 ... 8 6 2] [9 7 7 ... 3 6 2]\n",
      "0.8102682926829269\n",
      "Iteration:  290\n",
      "[9 7 7 ... 8 6 2] [9 7 7 ... 3 6 2]\n",
      "0.8130243902439024\n",
      "Iteration:  300\n",
      "[9 7 7 ... 8 6 2] [9 7 7 ... 3 6 2]\n",
      "0.8160243902439024\n",
      "Iteration:  310\n",
      "[9 7 7 ... 8 6 2] [9 7 7 ... 3 6 2]\n",
      "0.8186829268292682\n",
      "Iteration:  320\n",
      "[9 7 7 ... 8 6 2] [9 7 7 ... 3 6 2]\n",
      "0.8214634146341463\n",
      "Iteration:  330\n",
      "[9 7 7 ... 8 6 2] [9 7 7 ... 3 6 2]\n",
      "0.8239268292682926\n",
      "Iteration:  340\n",
      "[9 7 7 ... 8 6 2] [9 7 7 ... 3 6 2]\n",
      "0.8261219512195122\n",
      "Iteration:  350\n",
      "[9 7 7 ... 8 6 2] [9 7 7 ... 3 6 2]\n",
      "0.8286097560975609\n",
      "Iteration:  360\n",
      "[9 7 7 ... 8 6 2] [9 7 7 ... 3 6 2]\n",
      "0.8309512195121951\n",
      "Iteration:  370\n",
      "[9 7 7 ... 8 6 2] [9 7 7 ... 3 6 2]\n",
      "0.8328536585365853\n",
      "Iteration:  380\n",
      "[9 7 7 ... 8 6 2] [9 7 7 ... 3 6 2]\n",
      "0.8343414634146341\n",
      "Iteration:  390\n",
      "[9 7 7 ... 8 6 2] [9 7 7 ... 3 6 2]\n",
      "0.8361219512195122\n",
      "Iteration:  400\n",
      "[9 7 7 ... 8 6 2] [9 7 7 ... 3 6 2]\n",
      "0.8379024390243902\n",
      "Iteration:  410\n",
      "[9 7 7 ... 8 6 2] [9 7 7 ... 3 6 2]\n",
      "0.8394634146341463\n",
      "Iteration:  420\n",
      "[9 7 7 ... 8 6 2] [9 7 7 ... 3 6 2]\n",
      "0.841390243902439\n",
      "Iteration:  430\n",
      "[9 7 7 ... 8 6 2] [9 7 7 ... 3 6 2]\n",
      "0.8426829268292683\n",
      "Iteration:  440\n",
      "[9 7 7 ... 8 6 2] [9 7 7 ... 3 6 2]\n",
      "0.8439756097560975\n",
      "Iteration:  450\n",
      "[9 7 7 ... 8 6 2] [9 7 7 ... 3 6 2]\n",
      "0.8453658536585366\n",
      "Iteration:  460\n",
      "[9 7 7 ... 8 6 2] [9 7 7 ... 3 6 2]\n",
      "0.847\n",
      "Iteration:  470\n",
      "[9 7 7 ... 8 6 2] [9 7 7 ... 3 6 2]\n",
      "0.8478048780487805\n",
      "Iteration:  480\n",
      "[9 7 7 ... 8 6 2] [9 7 7 ... 3 6 2]\n",
      "0.8490243902439024\n",
      "Iteration:  490\n",
      "[9 7 7 ... 8 6 2] [9 7 7 ... 3 6 2]\n",
      "0.8500487804878049\n"
     ]
    }
   ],
   "source": [
    "W1, b1, W2, b2 = gradient_descent(X_train, Y_train, 0.10, 500)"
   ]
  },
  {
   "cell_type": "code",
   "execution_count": 12,
   "id": "0fcf8378",
   "metadata": {
    "execution": {
     "iopub.execute_input": "2024-04-28T09:50:54.507809Z",
     "iopub.status.busy": "2024-04-28T09:50:54.507120Z",
     "iopub.status.idle": "2024-04-28T09:50:54.519901Z",
     "shell.execute_reply": "2024-04-28T09:50:54.518428Z"
    },
    "papermill": {
     "duration": 0.031532,
     "end_time": "2024-04-28T09:50:54.523193",
     "exception": false,
     "start_time": "2024-04-28T09:50:54.491661",
     "status": "completed"
    },
    "tags": []
   },
   "outputs": [],
   "source": [
    "def make_predictions(X, W1, b1, W2, b2):\n",
    "    _, _, _, A2 = forward_prop(W1, b1, W2, b2, X)\n",
    "    predictions = get_predictions(A2)\n",
    "    return predictions\n",
    "\n",
    "def test_prediction(index, W1, b1, W2, b2):\n",
    "    current_image = X_train[:, index, None]\n",
    "    prediction = make_predictions(X_train[:, index, None], W1, b1, W2, b2)\n",
    "    label = Y_train[index]\n",
    "    print(\"Prediction: \", prediction)\n",
    "    print(\"Label: \", label)\n",
    "    \n",
    "    current_image = current_image.reshape((28, 28)) * 255\n",
    "    plt.gray()\n",
    "    plt.imshow(current_image, interpolation='nearest')\n",
    "    plt.show()"
   ]
  },
  {
   "cell_type": "code",
   "execution_count": 13,
   "id": "45bfb407",
   "metadata": {
    "execution": {
     "iopub.execute_input": "2024-04-28T09:50:54.553858Z",
     "iopub.status.busy": "2024-04-28T09:50:54.553190Z",
     "iopub.status.idle": "2024-04-28T09:50:55.395331Z",
     "shell.execute_reply": "2024-04-28T09:50:55.394290Z"
    },
    "papermill": {
     "duration": 0.859924,
     "end_time": "2024-04-28T09:50:55.397736",
     "exception": false,
     "start_time": "2024-04-28T09:50:54.537812",
     "status": "completed"
    },
    "tags": []
   },
   "outputs": [
    {
     "name": "stdout",
     "output_type": "stream",
     "text": [
      "Prediction:  [9]\n",
      "Label:  9\n"
     ]
    },
    {
     "data": {
      "image/png": "[encoded data removed]",
      "text/plain": [
       "<Figure size 640x480 with 1 Axes>"
      ]
     },
     "metadata": {},
     "output_type": "display_data"
    },
    {
     "name": "stdout",
     "output_type": "stream",
     "text": [
      "Prediction:  [7]\n",
      "Label:  7\n"
     ]
    },
    {
     "data": {
      "image/png": "[encoded data removed]",
      "text/plain": [
       "<Figure size 640x480 with 1 Axes>"
      ]
     },
     "metadata": {},
     "output_type": "display_data"
    },
    {
     "name": "stdout",
     "output_type": "stream",
     "text": [
      "Prediction:  [7]\n",
      "Label:  7\n"
     ]
    },
    {
     "data": {
      "image/png": "[encoded data removed]",
      "text/plain": [
       "<Figure size 640x480 with 1 Axes>"
      ]
     },
     "metadata": {},
     "output_type": "display_data"
    },
    {
     "name": "stdout",
     "output_type": "stream",
     "text": [
      "Prediction:  [0]\n",
      "Label:  0\n"
     ]
    },
    {
     "data": {
      "image/png": "[encoded data removed]",
      "text/plain": [
       "<Figure size 640x480 with 1 Axes>"
      ]
     },
     "metadata": {},
     "output_type": "display_data"
    }
   ],
   "source": [
    "test_prediction(0, W1, b1, W2, b2)\n",
    "test_prediction(1, W1, b1, W2, b2)\n",
    "test_prediction(2, W1, b1, W2, b2)\n",
    "test_prediction(3, W1, b1, W2, b2)"
   ]
  },
  {
   "cell_type": "code",
   "execution_count": 14,
   "id": "3a403bb8",
   "metadata": {
    "execution": {
     "iopub.execute_input": "2024-04-28T09:50:55.419409Z",
     "iopub.status.busy": "2024-04-28T09:50:55.418482Z",
     "iopub.status.idle": "2024-04-28T09:50:55.436155Z",
     "shell.execute_reply": "2024-04-28T09:50:55.435174Z"
    },
    "papermill": {
     "duration": 0.033765,
     "end_time": "2024-04-28T09:50:55.441660",
     "exception": false,
     "start_time": "2024-04-28T09:50:55.407895",
     "status": "completed"
    },
    "tags": []
   },
   "outputs": [
    {
     "name": "stdout",
     "output_type": "stream",
     "text": [
      "[4 5 0 0 2 6 8 8 9 8 0 6 9 9 1 8 6 8 3 1 7 6 3 1 2 8 4 6 3 6 4 7 0 9 2 1 9\n",
      " 9 2 6 0 8 9 1 5 6 4 6 0 3 1 4 3 4 6 6 2 0 3 2 3 9 2 4 4 2 5 3 6 0 8 8 6 4\n",
      " 9 0 8 1 4 8 5 7 7 2 4 1 3 3 5 9 5 8 8 1 6 0 5 9 8 2 4 7 7 9 6 1 9 8 3 1 6\n",
      " 5 1 6 2 6 7 3 0 4 5 9 0 2 1 2 3 0 1 4 8 6 1 4 0 6 4 7 9 1 6 1 9 4 8 8 3 7\n",
      " 3 1 2 0 8 1 4 4 8 4 7 8 8 0 5 1 8 7 8 3 5 1 1 4 9 9 4 1 8 6 4 7 9 7 0 5 8\n",
      " 2 3 4 1 9 5 9 5 1 0 2 1 4 8 8 8 4 1 3 5 1 6 8 1 2 7 8 8 1 1 2 6 8 0 5 8 3\n",
      " 8 3 0 8 3 1 5 6 3 8 7 8 7 0 1 0 1 3 7 0 5 7 5 6 1 0 7 7 9 6 1 2 6 9 3 3 0\n",
      " 7 5 1 2 1 8 1 9 1 3 3 6 8 9 4 7 0 1 2 4 4 0 8 8 2 7 6 0 6 3 1 6 6 1 0 2 0\n",
      " 9 3 5 7 1 9 6 2 2 1 6 8 6 7 4 3 3 7 8 2 2 4 6 5 2 4 1 0 1 6 5 7 1 1 3 1 1\n",
      " 9 4 0 1 6 3 3 2 7 3 3 9 1 2 8 2 0 0 6 6 1 9 7 5 1 4 1 2 3 3 9 6 4 1 4 9 3\n",
      " 6 9 7 0 0 2 3 0 6 7 0 0 3 7 7 3 2 6 2 9 8 6 6 2 7 1 9 4 6 7 8 0 2 8 2 2 9\n",
      " 7 1 7 6 0 4 7 7 9 1 2 2 5 6 9 1 9 0 4 4 5 2 8 3 6 9 7 5 8 7 8 8 1 1 6 6 0\n",
      " 1 5 2 7 1 6 4 4 3 3 1 2 9 5 3 0 1 6 7 4 9 6 1 2 4 0 4 2 7 7 2 8 7 4 4 9 1\n",
      " 3 3 6 1 7 6 9 5 3 1 1 2 4 0 5 2 7 4 6 1 5 8 1 1 7 7 5 2 3 8 7 8 9 1 8 4 5\n",
      " 1 5 3 8 6 5 7 2 5 7 9 4 8 0 5 0 5 9 2 3 1 7 8 1 4 8 9 2 9 4 0 7 0 4 0 6 9\n",
      " 9 3 2 7 5 7 8 9 6 0 7 0 3 7 1 6 6 4 1 2 5 9 2 1 4 8 7 6 1 9 6 6 3 2 4 5 4\n",
      " 7 7 0 5 6 6 2 4 4 9 0 1 6 1 3 2 4 1 3 2 8 0 0 6 3 3 9 9 6 8 9 8 6 1 9 4 5\n",
      " 8 8 1 1 8 4 8 7 9 2 6 1 6 2 0 1 4 7 4 1 4 6 5 4 3 0 3 5 7 4 2 3 5 6 3 8 4\n",
      " 8 0 8 7 8 2 8 9 1 4 7 3 0 8 9 3 5 7 0 2 3 9 7 6 6 6 9 4 7 9 3 4 0 1 5 5 5\n",
      " 3 9 4 6 7 3 4 9 6 5 8 1 4 6 9 2 9 0 1 1 5 7 4 6 3 8 1 6 3 1 0 6 5 2 8 1 3\n",
      " 2 5 0 4 4 4 1 0 3 1 4 5 4 6 1 3 8 8 4 3 9 3 3 2 8 3 6 3 3 2 5 1 3 9 8 9 5\n",
      " 4 4 0 1 9 7 3 7 2 4 2 6 2 3 8 4 6 1 1 7 9 8 9 4 9 6 2 2 4 8 8 0 9 4 1 4 0\n",
      " 6 1 0 0 9 7 6 8 0 0 4 3 7 7 6 4 3 1 9 7 1 8 0 2 8 3 5 4 5 3 4 8 5 7 5 7 6\n",
      " 6 4 0 7 1 2 8 7 8 1 2 8 0 2 9 8 0 1 8 9 0 8 5 0 0 1 8 8 3 5 6 0 3 8 3 9 0\n",
      " 3 1 7 1 5 1 6 6 6 6 9 6 2 7 0 7 0 9 5 2 8 7 5 1 4 2 2 7 7 8 5 8 8 3 9 7 2\n",
      " 9 4 1 3 8 8 9 4 2 1 1 9 6 4 2 5 6 4 2 9 2 4 5 0 3 9 4 9 7 5 9 3 2 3 4 7 8\n",
      " 7 7 6 2 8 5 2 4 2 4 2 5 5 7 8 3 7 1 2 4 1 1 7 4 9 2 5 1 1 6 2 1 7 6 6 1 9\n",
      " 8] [4 5 0 0 2 6 8 8 8 8 0 6 9 5 1 8 6 6 3 1 7 6 9 1 2 8 4 5 3 6 4 9 0 9 2 1 9\n",
      " 9 2 6 0 8 9 2 5 6 4 6 0 3 1 4 5 4 6 6 2 0 8 2 3 9 2 4 4 2 5 3 6 0 5 8 6 4\n",
      " 9 0 9 1 4 5 5 7 7 2 4 1 3 8 5 9 5 8 8 1 6 0 5 9 8 2 4 7 7 9 4 1 9 8 3 1 6\n",
      " 5 1 6 2 6 7 3 0 4 5 9 0 2 1 2 3 9 1 4 9 6 1 4 0 6 4 7 9 1 6 1 4 4 8 8 3 7\n",
      " 3 1 7 6 8 1 9 4 8 4 7 8 8 0 5 1 8 9 8 3 5 1 1 4 9 9 4 1 8 5 9 7 9 7 6 3 8\n",
      " 2 3 4 1 4 3 9 5 1 0 2 1 4 8 8 8 6 1 3 8 1 6 8 1 2 7 8 8 1 1 3 6 8 0 5 8 3\n",
      " 8 3 0 8 3 1 5 6 3 2 7 8 7 0 1 0 1 3 7 0 5 7 5 6 1 0 9 7 9 6 1 3 6 9 3 3 0\n",
      " 7 5 1 2 1 8 1 7 2 3 3 6 4 4 4 9 0 1 2 8 4 0 8 8 2 7 6 0 6 3 1 5 6 1 0 2 0\n",
      " 9 3 5 7 1 9 6 2 2 7 2 8 6 7 9 1 3 7 8 2 2 4 6 5 2 4 1 0 1 3 5 7 1 1 2 1 1\n",
      " 4 4 0 1 6 3 1 2 7 8 3 8 1 2 8 2 9 0 8 6 1 9 7 5 1 4 1 2 3 3 9 6 4 1 4 2 3\n",
      " 6 9 7 0 0 2 3 6 6 7 0 5 3 7 7 3 2 6 2 9 5 6 6 2 7 1 4 5 6 7 8 0 2 4 2 2 9\n",
      " 7 1 7 6 0 4 7 7 9 1 2 2 5 6 9 1 9 0 4 9 5 2 8 2 6 9 7 5 8 7 8 8 1 1 6 2 0\n",
      " 6 0 2 7 5 6 4 4 3 3 1 2 9 3 3 0 1 6 7 4 9 6 1 2 4 0 4 2 7 7 2 8 7 4 4 4 1\n",
      " 3 3 6 1 7 4 9 3 3 1 1 2 4 0 5 2 7 4 6 1 8 8 1 1 7 7 8 6 2 8 7 8 9 1 8 2 5\n",
      " 1 5 3 8 6 5 7 2 5 7 9 4 5 0 5 0 5 9 2 3 1 7 8 1 4 8 7 2 8 4 0 7 8 4 0 6 9\n",
      " 9 0 3 7 5 7 8 9 6 0 7 0 3 7 1 6 6 7 1 2 5 9 2 1 4 8 7 6 1 9 6 6 3 2 4 5 2\n",
      " 7 7 0 5 6 3 2 4 4 4 0 1 6 5 3 2 4 1 3 2 8 0 0 8 9 3 9 7 6 8 9 2 5 1 9 4 5\n",
      " 8 8 1 1 8 4 8 7 4 2 5 1 6 2 0 1 4 7 4 1 4 6 5 4 3 0 3 5 9 4 9 3 5 6 3 8 4\n",
      " 8 0 5 7 5 2 8 9 1 4 7 3 0 3 9 3 0 7 0 2 3 9 7 0 6 6 9 4 7 5 3 4 0 1 5 5 5\n",
      " 7 9 4 6 7 8 4 9 6 5 8 1 4 6 9 2 9 0 1 1 5 7 4 6 3 8 1 4 3 1 0 6 5 2 5 1 3\n",
      " 2 5 0 4 4 4 1 8 3 1 2 9 4 8 1 3 5 8 4 3 9 3 3 2 8 3 6 3 3 2 5 1 3 9 8 7 5\n",
      " 4 4 0 1 9 7 3 5 2 4 2 6 2 3 8 4 6 1 1 7 9 8 9 4 9 0 2 2 4 8 2 0 8 4 1 4 0\n",
      " 6 1 0 0 9 7 6 8 0 0 4 3 7 1 6 4 5 1 9 7 1 8 0 3 8 3 5 4 5 3 4 8 5 7 5 7 6\n",
      " 6 4 0 7 1 2 8 9 8 1 2 8 4 2 9 8 0 1 8 9 0 8 5 0 0 1 8 8 3 5 6 0 8 8 3 9 0\n",
      " 3 1 7 1 5 8 6 6 3 6 4 6 2 7 0 7 0 9 5 2 9 7 5 1 4 2 2 7 7 8 5 8 8 0 9 7 2\n",
      " 9 4 7 5 9 8 9 4 2 7 1 9 6 4 2 5 6 4 2 4 2 9 3 3 3 3 4 9 7 8 9 5 2 3 4 7 3\n",
      " 7 7 6 2 8 5 2 4 2 4 2 8 5 7 8 3 7 1 2 4 1 9 7 4 9 2 5 1 1 6 2 1 5 6 6 1 9\n",
      " 8]\n"
     ]
    },
    {
     "data": {
      "text/plain": [
       "0.86"
      ]
     },
     "execution_count": 14,
     "metadata": {},
     "output_type": "execute_result"
    }
   ],
   "source": [
    "dev_predictions = make_predictions(X_dev, W1, b1, W2, b2)\n",
    "get_accuracy(dev_predictions, Y_dev)"
   ]
  },
  {
   "cell_type": "code",
   "execution_count": null,
   "id": "cfd196b4",
   "metadata": {
    "papermill": {
     "duration": 0.016396,
     "end_time": "2024-04-28T09:50:55.475471",
     "exception": false,
     "start_time": "2024-04-28T09:50:55.459075",
     "status": "completed"
    },
    "tags": []
   },
   "outputs": [],
   "source": []
  }
 ],
 "metadata": {
  "kaggle": {
   "accelerator": "none",
   "dataSources": [
    {
     "databundleVersionId": 861823,
     "sourceId": 3004,
     "sourceType": "competition"
    }
   ],
   "dockerImageVersionId": 30698,
   "isGpuEnabled": false,
   "isInternetEnabled": false,
   "language": "python",
   "sourceType": "notebook"
  },
  "kernelspec": {
   "display_name": "Python 3",
   "language": "python",
   "name": "python3"
  },
  "language_info": {
   "codemirror_mode": {
    "name": "ipython",
    "version": 3
   },
   "file_extension": ".py",
   "mimetype": "text/x-python",
   "name": "python",
   "nbconvert_exporter": "python",
   "pygments_lexer": "ipython3",
   "version": "3.10.13"
  },
  "papermill": {
   "default_parameters": {},
   "duration": 64.044238,
   "end_time": "2024-04-28T09:50:56.012507",
   "environment_variables": {},
   "exception": null,
   "input_path": "__notebook__.ipynb",
   "output_path": "__notebook__.ipynb",
   "parameters": {},
   "start_time": "2024-04-28T09:49:51.968269",
   "version": "2.5.0"
  }
 },
 "nbformat": 4,
 "nbformat_minor": 5
}
